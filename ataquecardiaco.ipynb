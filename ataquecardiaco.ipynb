{
 "cells": [
  {
   "cell_type": "markdown",
   "id": "122400ff",
   "metadata": {
    "vscode": {
     "languageId": "plaintext"
    }
   },
   "source": [
    "# Tech Challenge - Fase 1: Predição de Ataque Cardíaco\n",
    "\n",
    "## Análise de Dados e Machine Learning para Diagnóstico Médico\n",
    "\n",
    "**Objetivo:** Criar um sistema de apoio ao diagnóstico médico que utilize técnicas de Machine Learning para estimar a probabilidade de ocorrência de um ataque cardíaco a partir de informações clínicas e demográficas de pacientes.\n",
    "\n",
    "**Base de Dados:** Heart Attack Prediction - Indonesia\n",
    "\n",
    "---\n",
    "\n",
    "## 1. Introdução e Contexto do Problema\n",
    "\n",
    "As doenças cardiovasculares continuam sendo uma das principais causas de morte em todo o mundo. Milhares de pessoas perdem a vida todos os anos em decorrência de eventos cardíacos que, em muitos casos, poderiam ser evitados com uma detecção precoce e um acompanhamento adequado.\n",
    "\n",
    "Neste projeto, buscamos desenvolver um modelo preditivo capaz de identificar pacientes com maior risco de sofrer um ataque cardíaco. A proposta é aplicar técnicas de Machine Learning sobre dados clínicos estruturados, de forma a extrair padrões e indicadores relevantes que auxiliem no processo de triagem e tomada de decisão médica.\n",
    "\n",
    "Ao automatizar parte dessa análise, espera-se reduzir o tempo necessário para a identificação de casos críticos e apoiar profissionais da saúde no planejamento de intervenções preventivas mais eficazes.\n",
    "\n",
    "**Observação:** O sistema desenvolvido tem caráter complementar e serve apenas como ferramenta de apoio à decisão. O diagnóstico definitivo e as condutas clínicas devem ser sempre realizados por profissionais da área da saúde devidamente qualificados.\n"
   ]
  },
  {
   "cell_type": "code",
   "execution_count": 1,
   "id": "8db076d9",
   "metadata": {},
   "outputs": [
    {
     "name": "stdout",
     "output_type": "stream",
     "text": [
      "Requirement already satisfied: pandas in /home/bigfriend/anaconda3/lib/python3.13/site-packages (2.2.3)\n",
      "Requirement already satisfied: numpy in /home/bigfriend/anaconda3/lib/python3.13/site-packages (2.1.3)\n",
      "Requirement already satisfied: matplotlib in /home/bigfriend/anaconda3/lib/python3.13/site-packages (3.10.0)\n",
      "Requirement already satisfied: seaborn in /home/bigfriend/anaconda3/lib/python3.13/site-packages (0.13.2)\n",
      "Requirement already satisfied: scikit-learn in /home/bigfriend/anaconda3/lib/python3.13/site-packages (1.6.1)\n",
      "Requirement already satisfied: shap in /home/bigfriend/anaconda3/lib/python3.13/site-packages (0.49.1)\n",
      "\u001b[31mERROR: Could not find a version that satisfies the requirement warnings (from versions: none)\u001b[0m\u001b[31m\n",
      "\u001b[0m\u001b[31mERROR: No matching distribution found for warnings\u001b[0m\u001b[31m\n",
      "\u001b[0m"
     ]
    }
   ],
   "source": [
    "!pip3 install pandas numpy matplotlib seaborn scikit-learn shap\n",
    "\n",
    "# Manipulação de dados\n",
    "import pandas as pd\n",
    "import numpy as np\n",
    "\n",
    "# Visualização\n",
    "import matplotlib.pyplot as plt\n",
    "import seaborn as sns\n",
    "import warnings\n",
    "\n",
    "# Exibição de dataframes\n",
    "from IPython.display import display\n"
   ]
  },
  {
   "cell_type": "markdown",
   "id": "ec744d2c",
   "metadata": {},
   "source": [
    "## Exploração e análise de dados"
   ]
  },
  {
   "cell_type": "markdown",
   "id": "34c73756",
   "metadata": {},
   "source": [
    "#dados tecnicos, tamanho, colunas, quanto vai alocar de ram para eu trabalhar"
   ]
  },
  {
   "cell_type": "code",
   "execution_count": null,
   "id": "a61d293c",
   "metadata": {},
   "outputs": [],
   "source": [
    "# Carregar o dataset\n",
    "df = pd.read_csv('./dataset/heart_attack_prediction_indonesia.csv')\n",
    "\n",
    "print(\"INFORMAÇÕES GERAIS DO DATASET\")\n",
    "print(f\"Dimensões do dataset: {df.shape[0]} linhas x {df.shape[1]} colunas\")\n",
    "print(f\"Memória utilizada: {df.memory_usage(deep=True).sum() / 1024**2:.2f} MB\")\n",
    "\n",
    "print(\"\n--- Informações do DataFrame ---\")\n",
    "df.info()\n",
    "\n",
    "print(\"\n--- Tipos de Dados ---\")\n",
    "print(df.dtypes)\n",
    "\n",
    "print(\"\n--- Primeiras 5 Linhas ---\")\n",
    "display(df.head())\n",
    "\n",
    "print(\"\n--- Últimas 5 Linhas ---\")\n",
    "display(df.tail())\n",
    "\n",
    "print(\"\n--- Contagem de Valores Nulos por Coluna ---\")\n",
    "print(df.isnull().sum())\n",
    "\n",
    "print(\"\n--- Porcentagem de Valores Nulos por Coluna ---\")\n",
    "print(df.isna().mean().sort_values(ascending=False))\n",
    "\n",
    "print(\"\n--- Estatísticas Descritivas (Todas as Colunas) ---\")\n",
    "display(df.describe(include='all'))\n",
    "\n",
    "print(\"\n--- Estatísticas Descritivas (Colunas Numéricas) ---\")\n",
    "display(df.describe())\n",
    "\n",
    "print(\"\n--- Estatísticas Descritivas (Colunas Categóricas) ---\")\n",
    "display(df.describe(include=['object', 'category']))\n"
   ]
  }
 ],
 "metadata": {
  "kernelspec": {
   "display_name": "base",
   "language": "python",
   "name": "python3"
  },
  "language_info": {
   "codemirror_mode": {
    "name": "ipython",
    "version": 3
   },
   "file_extension": ".py",
   "mimetype": "text/x-python",
   "name": "python",
   "nbconvert_exporter": "python",
   "pygments_lexer": "ipython3",
   "version": "3.13.5"
  }
 },
 "nbformat": 4,
 "nbformat_minor": 5
}
